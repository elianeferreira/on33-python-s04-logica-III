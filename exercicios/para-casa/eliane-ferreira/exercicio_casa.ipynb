{
 "cells": [
  {
   "cell_type": "markdown",
   "metadata": {},
   "source": [
    "Desenvolva um programa que faça a tabuada de um número qualquer inteiro que será digitado pelo usuário, mas a tabuada não deve necessariamente iniciar em 1 e terminar em 10, o valor inicial e final devem ser informados também pelo usuário. "
   ]
  },
  {
   "cell_type": "code",
   "execution_count": 32,
   "metadata": {},
   "outputs": [
    {
     "name": "stdout",
     "output_type": "stream",
     "text": [
      "3 x 4 = 12\n",
      "3 x 4 = 12\n",
      "Final\n"
     ]
    }
   ],
   "source": [
    "multiplicador = int(input('Digite um número'))\n",
    "contador = int(input('Digite o segundo número'))\n",
    "\n",
    "for i in range(2,4,1):\n",
    "    resultado = multiplicador * contador\n",
    "    print(f\"{multiplicador} x {contador} = {resultado}\")\n",
    "    #i += 3\n",
    "    \n",
    "print(\"Final\")\n",
    "\n",
    "\n",
    "#num = int(input(\"Digite um número:\"))\n",
    "#num2 = int(input('Digite o segundo número'))\n",
    "#contador = 2\n",
    "\n",
    "#while contador <= 9:\n",
    "   # resultado = int(num) * int(num2)\n",
    "   # print(f\"{num} x {num2}= {resultado}\")\n",
    "    ##contador += 1\n",
    "    \n",
    "#print(\"condição aceita\")"
   ]
  },
  {
   "cell_type": "markdown",
   "metadata": {},
   "source": [
    "Faça um programa que calcule o fatorial de um número inteiro fornecido pelo usuário. Ex.: 5!=5.4.3.2.1=120. A saída deve ser conforme o exemplo abaixo:\n",
    "Fatorial de: 5\n",
    "5! =  5 . 4 . 3 . 2 . 1 = 120"
   ]
  },
  {
   "cell_type": "code",
   "execution_count": 104,
   "metadata": {},
   "outputs": [
    {
     "name": "stdout",
     "output_type": "stream",
     "text": [
      "O Fatorial de 5! é 120"
     ]
    }
   ],
   "source": [
    "num = int(input('Calcule o fatorial de :'))\n",
    "fatorial = 1\n",
    "\n",
    "\n",
    "for i in range (num,0,-1):\n",
    "   fatorial = fatorial * i \n",
    "\n",
    "\n",
    "\n",
    "print(f'O Fatorial de {num}! é {fatorial}', end='' )\n",
    "\n"
   ]
  },
  {
   "cell_type": "code",
   "execution_count": 30,
   "metadata": {},
   "outputs": [
    {
     "name": "stdout",
     "output_type": "stream",
     "text": [
      "120\n"
     ]
    }
   ],
   "source": [
    "numero = int(input(\"Fatorial de: \") )\n",
    "\n",
    "resultado=1\n",
    "for n in range(1,numero+1):\n",
    "    resultado *= n\n",
    "\n",
    "print(resultado)"
   ]
  },
  {
   "cell_type": "markdown",
   "metadata": {},
   "source": [
    "Um funcionário de uma empresa recebe aumento salarial anualmente: Sabe-se que:\n",
    "Esse funcionário foi contratado em 1995, com salário inicial de R$ 1.000,00;\n",
    "Em 1996 recebeu aumento de 1,5% sobre seu salário inicial;\n",
    "A partir de 1997 (inclusive), os aumentos salariais sempre correspondem ao dobro do percentual do ano anterior. Faça um programa que determine o salário atual desse funcionário. Após concluir isto, altere o programa permitindo que o usuário digite o salário inicial do funcionário."
   ]
  },
  {
   "cell_type": "code",
   "execution_count": 2,
   "metadata": {},
   "outputs": [
    {
     "name": "stdout",
     "output_type": "stream",
     "text": [
      "Salario atual do funcionario acrescido de 15% é: 2030.0\n",
      "O salario com aumento dobrado é : 2030.03\n"
     ]
    }
   ],
   "source": [
    "salario_inicial = float(input(\"digite seu salario inicial\"))\n",
    "salario_dobro = float(input(\"Digite o salário atual\"))\n",
    "novo_salario = salario_inicial + ( salario_inicial * 0.015)\n",
    "\n",
    "print(f\"Salario atual do funcionario acrescido de 15% é: {novo_salario}\" )\n",
    "\n",
    "resultado = novo_salario + 2 * 0.015\n",
    "print(f\"O salario com aumento dobrado é : {resultado}\" )\n",
    "\n"
   ]
  }
 ],
 "metadata": {
  "kernelspec": {
   "display_name": "Python 3",
   "language": "python",
   "name": "python3"
  },
  "language_info": {
   "codemirror_mode": {
    "name": "ipython",
    "version": 3
   },
   "file_extension": ".py",
   "mimetype": "text/x-python",
   "name": "python",
   "nbconvert_exporter": "python",
   "pygments_lexer": "ipython3",
   "version": "3.12.4"
  }
 },
 "nbformat": 4,
 "nbformat_minor": 2
}
